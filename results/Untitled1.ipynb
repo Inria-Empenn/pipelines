{
 "cells": [
  {
   "cell_type": "code",
   "execution_count": 2,
   "metadata": {},
   "outputs": [],
   "source": [
    "import os\n",
    "import numpy as np\n",
    "import matplotlib.pyplot as plt\n",
    "import scipy.stats\n",
    "import statsmodels.api as sm \n",
    "import pylab as py"
   ]
  },
  {
   "cell_type": "code",
   "execution_count": 37,
   "metadata": {},
   "outputs": [],
   "source": [
    "np.random.seed(0)\n",
    "a=np.random.normal(loc=0,scale=1,size=100)\n",
    "norm=scipy.stats.norm"
   ]
  },
  {
   "cell_type": "code",
   "execution_count": 38,
   "metadata": {},
   "outputs": [
    {
     "data": {
      "text/plain": [
       "(array([ 1.,  5.,  7., 13., 17., 18., 16., 11.,  7.,  5.]),\n",
       " array([-2.55298982, -2.07071537, -1.58844093, -1.10616648, -0.62389204,\n",
       "        -0.1416176 ,  0.34065685,  0.82293129,  1.30520574,  1.78748018,\n",
       "         2.26975462]),\n",
       " <a list of 10 Patch objects>)"
      ]
     },
     "execution_count": 38,
     "metadata": {},
     "output_type": "execute_result"
    },
    {
     "data": {
      "image/png": "[encoded data removed]",
      "text/plain": [
       "<Figure size 432x288 with 1 Axes>"
      ]
     },
     "metadata": {},
     "output_type": "display_data"
    }
   ],
   "source": [
    "plt.hist(a)"
   ]
  },
  {
   "cell_type": "code",
   "execution_count": 39,
   "metadata": {},
   "outputs": [
    {
     "data": {
      "text/plain": [
       "array([ 1.76405235,  0.40015721,  0.97873798,  2.2408932 ,  1.86755799,\n",
       "       -0.97727788,  0.95008842, -0.15135721, -0.10321885,  0.4105985 ,\n",
       "        0.14404357,  1.45427351,  0.76103773,  0.12167502,  0.44386323,\n",
       "        0.33367433,  1.49407907, -0.20515826,  0.3130677 , -0.85409574,\n",
       "       -2.55298982,  0.6536186 ,  0.8644362 , -0.74216502,  2.26975462,\n",
       "       -1.45436567,  0.04575852, -0.18718385,  1.53277921,  1.46935877,\n",
       "        0.15494743,  0.37816252, -0.88778575, -1.98079647, -0.34791215,\n",
       "        0.15634897,  1.23029068,  1.20237985, -0.38732682, -0.30230275,\n",
       "       -1.04855297, -1.42001794, -1.70627019,  1.9507754 , -0.50965218,\n",
       "       -0.4380743 , -1.25279536,  0.77749036, -1.61389785, -0.21274028,\n",
       "       -0.89546656,  0.3869025 , -0.51080514, -1.18063218, -0.02818223,\n",
       "        0.42833187,  0.06651722,  0.3024719 , -0.63432209, -0.36274117,\n",
       "       -0.67246045, -0.35955316, -0.81314628, -1.7262826 ,  0.17742614,\n",
       "       -0.40178094, -1.63019835,  0.46278226, -0.90729836,  0.0519454 ,\n",
       "        0.72909056,  0.12898291,  1.13940068, -1.23482582,  0.40234164,\n",
       "       -0.68481009, -0.87079715, -0.57884966, -0.31155253,  0.05616534,\n",
       "       -1.16514984,  0.90082649,  0.46566244, -1.53624369,  1.48825219,\n",
       "        1.89588918,  1.17877957, -0.17992484, -1.07075262,  1.05445173,\n",
       "       -0.40317695,  1.22244507,  0.20827498,  0.97663904,  0.3563664 ,\n",
       "        0.70657317,  0.01050002,  1.78587049,  0.12691209,  0.40198936])"
      ]
     },
     "execution_count": 39,
     "metadata": {},
     "output_type": "execute_result"
    }
   ],
   "source": [
    "a"
   ]
  },
  {
   "cell_type": "code",
   "execution_count": 40,
   "metadata": {},
   "outputs": [],
   "source": [
    "p_th = [i/100 for i in range(1,101)]"
   ]
  },
  {
   "cell_type": "code",
   "execution_count": 42,
   "metadata": {},
   "outputs": [],
   "source": [
    "p_obs1 = sorted(norm.sf(np.array(a)))"
   ]
  },
  {
   "cell_type": "markdown",
   "metadata": {},
   "source": [
    "$p_{obs1}$ correspond à l'ensemble des p-values à droite des éléments triées. Si les éléments suivent effectivement une loi normale centrée réduite, on s'attend à ce que $p_{obs1}(k)$ soit égal à k/n.\n",
    "\n",
    "Si les valeurs statistiques de l'échantillon sont plus élevées que ce à quoi on s'attend pour la loi, alors les p-values sont plus basses."
   ]
  },
  {
   "cell_type": "code",
   "execution_count": 44,
   "metadata": {},
   "outputs": [
    {
     "data": {
      "text/plain": [
       "[<matplotlib.lines.Line2D at 0x7f55f51865d0>]"
      ]
     },
     "execution_count": 44,
     "metadata": {},
     "output_type": "execute_result"
    },
    {
     "data": {
      "image/png": "[encoded data removed]",
      "text/plain": [
       "<Figure size 432x288 with 1 Axes>"
      ]
     },
     "metadata": {},
     "output_type": "display_data"
    }
   ],
   "source": [
    "plt.plot(p_th,p_obs1)"
   ]
  },
  {
   "cell_type": "code",
   "execution_count": 53,
   "metadata": {},
   "outputs": [],
   "source": [
    "k=0\n",
    "p_obs2 = []\n",
    "for i in range(100):\n",
    "    while k < 100 and 1-p_obs1[100-1-k] < p_th[i]:\n",
    "        k=k+1\n",
    "    p_obs2=p_obs2+[k/100]"
   ]
  },
  {
   "cell_type": "markdown",
   "metadata": {},
   "source": [
    "$p_{obs2}$ correspond à $Card(\\{x|F(x)<k/n\\})/n = Card(\\{x|1-F(x)>1-k/n\\})/n$, la proportion d'éléments dont la valeur correspondante de la fonction de répartition est inférieure à k/n. Comme pour $p_{obs1}$, si les éléments suivent la loi correspondant à la fonction de répartition (loi normale centrée réduite), on s'attend à ce que $p_{obs2}(k)$ soit égal à k/n.\n",
    "\n",
    "Si les valeurs statistiques sont moins élevées, les valeurs de $F(x)$ le sont également, d'où la proportion de $F(x) < k/n$ est potentiellement plus importante pour une valeur de $k$ donnée, donc comme pour $p_{obs1}$, les valeurs de $p_{obs2}$ sont plus élevées."
   ]
  },
  {
   "cell_type": "code",
   "execution_count": 55,
   "metadata": {},
   "outputs": [
    {
     "data": {
      "text/plain": [
       "[0.011611237557454506,\n",
       " 0.012516496941700705,\n",
       " 0.025541884992560656,\n",
       " 0.02898735025557552,\n",
       " 0.030911853326642494,\n",
       " 0.03706011471188455,\n",
       " 0.0388615832664841,\n",
       " 0.06266513184831007,\n",
       " 0.06757747648113734,\n",
       " 0.06834219864868844,\n",
       " 0.07086775206100573,\n",
       " 0.07293524625184171,\n",
       " 0.10929413642730346,\n",
       " 0.11076968208671567,\n",
       " 0.11460819646701365,\n",
       " 0.11924298052062199,\n",
       " 0.12726803529063996,\n",
       " 0.14583807528714066,\n",
       " 0.16385472943819823,\n",
       " 0.1643739430660578,\n",
       " 0.1710336639787779,\n",
       " 0.18384029115472605,\n",
       " 0.19367415730909815,\n",
       " 0.2184347610967805,\n",
       " 0.2233172673520214,\n",
       " 0.2329731336730167,\n",
       " 0.23991588408991488,\n",
       " 0.25667878041636316,\n",
       " 0.32072857080095596,\n",
       " 0.32176022574404994,\n",
       " 0.32857073416207194,\n",
       " 0.3342047593405401,\n",
       " 0.3406834811807825,\n",
       " 0.3437163063920613,\n",
       " 0.34384592713116935,\n",
       " 0.3445203650627423,\n",
       " 0.3494141959377871,\n",
       " 0.3526549333217056,\n",
       " 0.3607830954273564,\n",
       " 0.36931266206568286,\n",
       " 0.37711461344011576,\n",
       " 0.3811461765630454,\n",
       " 0.417507133922981,\n",
       " 0.4295868372556586,\n",
       " 0.43787897957326355,\n",
       " 0.43843138240526314,\n",
       " 0.44273303178337853,\n",
       " 0.4486855855526893,\n",
       " 0.4495049877221256,\n",
       " 0.4515782000743643,\n",
       " 0.4734830232980049,\n",
       " 0.47760504522779695,\n",
       " 0.47928610123223486,\n",
       " 0.48175136127616763,\n",
       " 0.4958111747594826,\n",
       " 0.5112415943369666,\n",
       " 0.5411053608711971,\n",
       " 0.5601530283330335,\n",
       " 0.5713942113912821,\n",
       " 0.5742417565724263,\n",
       " 0.5812757617438306,\n",
       " 0.5842352266096422,\n",
       " 0.618789359139008,\n",
       " 0.6223096931846366,\n",
       " 0.6360469196135898,\n",
       " 0.6404093421457424,\n",
       " 0.6416008774143892,\n",
       " 0.6507428627283619,\n",
       " 0.6560773733355865,\n",
       " 0.6565909712769334,\n",
       " 0.6693337886874393,\n",
       " 0.6948524203904283,\n",
       " 0.6952562443272183,\n",
       " 0.7186546917957854,\n",
       " 0.7370646796432974,\n",
       " 0.7493546941463329,\n",
       " 0.7532681165780764,\n",
       " 0.7710063204241596,\n",
       " 0.7919329031186124,\n",
       " 0.803474027755684,\n",
       " 0.808067538935176,\n",
       " 0.8126719945780945,\n",
       " 0.8147311333789639,\n",
       " 0.8178754805519829,\n",
       " 0.8357841994922512,\n",
       " 0.8528080434141859,\n",
       " 0.8578596623915665,\n",
       " 0.8780208274440882,\n",
       " 0.8811255637632731,\n",
       " 0.8915523322022167,\n",
       " 0.8948599046476701,\n",
       " 0.9221987704500544,\n",
       " 0.9270775243752856,\n",
       " 0.9377606873948261,\n",
       " 0.9467252071839675,\n",
       " 0.9484702084039367,\n",
       " 0.9560211072571287,\n",
       " 0.9578517081406722,\n",
       " 0.976192948475528,\n",
       " 0.994659869047165]"
      ]
     },
     "execution_count": 55,
     "metadata": {},
     "output_type": "execute_result"
    }
   ],
   "source": [
    "p_obs1"
   ]
  },
  {
   "cell_type": "code",
   "execution_count": 56,
   "metadata": {},
   "outputs": [
    {
     "data": {
      "text/plain": [
       "[0.01,\n",
       " 0.01,\n",
       " 0.02,\n",
       " 0.02,\n",
       " 0.04,\n",
       " 0.06,\n",
       " 0.07,\n",
       " 0.09,\n",
       " 0.09,\n",
       " 0.09,\n",
       " 0.11,\n",
       " 0.12,\n",
       " 0.13,\n",
       " 0.13,\n",
       " 0.15,\n",
       " 0.15,\n",
       " 0.16,\n",
       " 0.16,\n",
       " 0.19,\n",
       " 0.21,\n",
       " 0.22,\n",
       " 0.22,\n",
       " 0.23,\n",
       " 0.23,\n",
       " 0.24,\n",
       " 0.25,\n",
       " 0.26,\n",
       " 0.26,\n",
       " 0.27,\n",
       " 0.27,\n",
       " 0.29,\n",
       " 0.29,\n",
       " 0.29,\n",
       " 0.3,\n",
       " 0.33,\n",
       " 0.35,\n",
       " 0.36,\n",
       " 0.37,\n",
       " 0.38,\n",
       " 0.38,\n",
       " 0.38,\n",
       " 0.4,\n",
       " 0.42,\n",
       " 0.43,\n",
       " 0.43,\n",
       " 0.44,\n",
       " 0.44,\n",
       " 0.44,\n",
       " 0.45,\n",
       " 0.45,\n",
       " 0.46,\n",
       " 0.47,\n",
       " 0.5,\n",
       " 0.5,\n",
       " 0.51,\n",
       " 0.54,\n",
       " 0.56,\n",
       " 0.57,\n",
       " 0.58,\n",
       " 0.58,\n",
       " 0.58,\n",
       " 0.59,\n",
       " 0.6,\n",
       " 0.62,\n",
       " 0.63,\n",
       " 0.68,\n",
       " 0.69,\n",
       " 0.72,\n",
       " 0.72,\n",
       " 0.72,\n",
       " 0.72,\n",
       " 0.72,\n",
       " 0.72,\n",
       " 0.72,\n",
       " 0.73,\n",
       " 0.73,\n",
       " 0.75,\n",
       " 0.76,\n",
       " 0.77,\n",
       " 0.77,\n",
       " 0.78,\n",
       " 0.79,\n",
       " 0.8,\n",
       " 0.82,\n",
       " 0.82,\n",
       " 0.83,\n",
       " 0.83,\n",
       " 0.84,\n",
       " 0.87,\n",
       " 0.88,\n",
       " 0.88,\n",
       " 0.88,\n",
       " 0.9,\n",
       " 0.93,\n",
       " 0.93,\n",
       " 0.93,\n",
       " 0.96,\n",
       " 0.98,\n",
       " 1.0,\n",
       " 1.0]"
      ]
     },
     "execution_count": 56,
     "metadata": {},
     "output_type": "execute_result"
    }
   ],
   "source": [
    "p_obs2"
   ]
  },
  {
   "cell_type": "code",
   "execution_count": 57,
   "metadata": {},
   "outputs": [
    {
     "data": {
      "text/plain": [
       "[<matplotlib.lines.Line2D at 0x7f55f51224d0>]"
      ]
     },
     "execution_count": 57,
     "metadata": {},
     "output_type": "execute_result"
    },
    {
     "data": {
      "image/png": "[encoded data removed]",
      "text/plain": [
       "<Figure size 432x288 with 1 Axes>"
      ]
     },
     "metadata": {},
     "output_type": "display_data"
    }
   ],
   "source": [
    "plt.plot(p_th,p_obs2)"
   ]
  },
  {
   "cell_type": "code",
   "execution_count": null,
   "metadata": {},
   "outputs": [],
   "source": []
  }
 ],
 "metadata": {
  "kernelspec": {
   "display_name": "Python 3",
   "language": "python",
   "name": "python3"
  },
  "language_info": {
   "codemirror_mode": {
    "name": "ipython",
    "version": 3
   },
   "file_extension": ".py",
   "mimetype": "text/x-python",
   "name": "python",
   "nbconvert_exporter": "python",
   "pygments_lexer": "ipython3",
   "version": "3.7.5"
  }
 },
 "nbformat": 4,
 "nbformat_minor": 2
}
