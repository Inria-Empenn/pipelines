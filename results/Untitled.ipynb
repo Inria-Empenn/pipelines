{
 "cells": [
  {
   "cell_type": "code",
   "execution_count": 3,
   "metadata": {},
   "outputs": [],
   "source": [
    "import os\n",
    "import numpy as np\n",
    "import matplotlib.pyplot as plt"
   ]
  },
  {
   "cell_type": "code",
   "execution_count": 7,
   "metadata": {},
   "outputs": [],
   "source": [
    "import nibabel as nib\n",
    "import random"
   ]
  },
  {
   "cell_type": "code",
   "execution_count": 5,
   "metadata": {},
   "outputs": [],
   "source": [
    "Vect_vox=[]\n",
    "\n",
    "for i in range(1000):\n",
    "    fold='SLA'+str(i+1)+'_50'\n",
    "    V0 = nib.load(os.path.join('..', 'data',fold,'smooth_5_5','reg_6_6','der_1_1','spmT_0001.nii')).get_data().flatten()\n",
    "    V1 = nib.load(os.path.join('..', 'data',fold,'smooth_5_5','reg_6_6','der_1_1','mask.nii')).get_data().flatten()\n",
    "    V0bis=V0[V1!=0].tolist()\n",
    "    Vect_vox=Vect_vox+V0bis"
   ]
  },
  {
   "cell_type": "code",
   "execution_count": 6,
   "metadata": {},
   "outputs": [
    {
     "data": {
      "text/plain": [
       "155911497"
      ]
     },
     "execution_count": 6,
     "metadata": {},
     "output_type": "execute_result"
    }
   ],
   "source": [
    "len(Vect_vox)"
   ]
  },
  {
   "cell_type": "code",
   "execution_count": 26,
   "metadata": {},
   "outputs": [],
   "source": [
    "np.random.seed(0)\n",
    "Vect_vox_sample=random.sample(Vect_vox,1000000)"
   ]
  },
  {
   "cell_type": "code",
   "execution_count": 11,
   "metadata": {
    "scrolled": false
   },
   "outputs": [
    {
     "data": {
      "text/plain": [
       "(array([4.0000000e+00, 6.0000000e+00, 7.0000000e+00, 2.7000000e+01,\n",
       "        5.9000000e+01, 1.6700000e+02, 5.7300000e+02, 1.4880000e+03,\n",
       "        3.7800000e+03, 9.1110000e+03, 2.1102000e+04, 4.7847000e+04,\n",
       "        1.0439200e+05, 2.1452200e+05, 4.2081900e+05, 7.7742300e+05,\n",
       "        1.3646550e+06, 2.2586200e+06, 3.5313800e+06, 5.1917260e+06,\n",
       "        7.1963050e+06, 9.3925030e+06, 1.1567997e+07, 1.3407735e+07,\n",
       "        1.4664103e+07, 1.5118493e+07, 1.4703771e+07, 1.3475094e+07,\n",
       "        1.1638295e+07, 9.4637860e+06, 7.2570270e+06, 5.2378700e+06,\n",
       "        3.5604070e+06, 2.2828530e+06, 1.3799050e+06, 7.8674400e+05,\n",
       "        4.2362900e+05, 2.1697500e+05, 1.0514400e+05, 4.8829000e+04,\n",
       "        2.1477000e+04, 9.1940000e+03, 3.5120000e+03, 1.3200000e+03,\n",
       "        5.2700000e+02, 1.9100000e+02, 5.3000000e+01, 3.4000000e+01,\n",
       "        1.1000000e+01, 5.0000000e+00]),\n",
       " array([-6.26724005, -6.02107545, -5.77491085, -5.52874625, -5.28258165,\n",
       "        -5.03641706, -4.79025246, -4.54408786, -4.29792326, -4.05175866,\n",
       "        -3.80559406, -3.55942946, -3.31326487, -3.06710027, -2.82093567,\n",
       "        -2.57477107, -2.32860647, -2.08244187, -1.83627728, -1.59011268,\n",
       "        -1.34394808, -1.09778348, -0.85161888, -0.60545428, -0.35928968,\n",
       "        -0.11312509,  0.13303951,  0.37920411,  0.62536871,  0.87153331,\n",
       "         1.11769791,  1.3638625 ,  1.6100271 ,  1.8561917 ,  2.1023563 ,\n",
       "         2.3485209 ,  2.5946855 ,  2.8408501 ,  3.08701469,  3.33317929,\n",
       "         3.57934389,  3.82550849,  4.07167309,  4.31783769,  4.56400229,\n",
       "         4.81016688,  5.05633148,  5.30249608,  5.54866068,  5.79482528,\n",
       "         6.04098988]),\n",
       " <a list of 50 Patch objects>)"
      ]
     },
     "execution_count": 11,
     "metadata": {},
     "output_type": "execute_result"
    },
    {
     "data": {
      "image/png": "[encoded data removed]",
      "text/plain": [
       "<Figure size 432x288 with 1 Axes>"
      ]
     },
     "metadata": {},
     "output_type": "display_data"
    }
   ],
   "source": [
    "plt.hist(Vect_vox,bins=50)"
   ]
  },
  {
   "cell_type": "code",
   "execution_count": 42,
   "metadata": {},
   "outputs": [
    {
     "name": "stderr",
     "output_type": "stream",
     "text": [
      "/usr/lib64/python3.7/site-packages/matplotlib/axes/_axes.py:6571: UserWarning: The 'normed' kwarg is deprecated, and has been replaced by the 'density' kwarg.\n",
      "  warnings.warn(\"The 'normed' kwarg is deprecated, and has been \"\n"
     ]
    },
    {
     "ename": "NameError",
     "evalue": "name 'args' is not defined",
     "output_type": "error",
     "traceback": [
      "\u001b[0;31m---------------------------------------------------------------------------\u001b[0m",
      "\u001b[0;31mNameError\u001b[0m                                 Traceback (most recent call last)",
      "\u001b[0;32m<ipython-input-42-769f5f306c7a>\u001b[0m in \u001b[0;36m<module>\u001b[0;34m()\u001b[0m\n\u001b[1;32m      9\u001b[0m \u001b[0;34m\u001b[0m\u001b[0m\n\u001b[1;32m     10\u001b[0m \u001b[0mp_th\u001b[0m \u001b[0;34m=\u001b[0m \u001b[0;34m[\u001b[0m\u001b[0mt\u001b[0m\u001b[0;34m/\u001b[0m\u001b[0mlen\u001b[0m\u001b[0;34m(\u001b[0m\u001b[0mVect_vox_sample\u001b[0m\u001b[0;34m)\u001b[0m \u001b[0;32mfor\u001b[0m \u001b[0mt\u001b[0m \u001b[0;32min\u001b[0m \u001b[0mrange\u001b[0m\u001b[0;34m(\u001b[0m\u001b[0;36m1\u001b[0m\u001b[0;34m,\u001b[0m\u001b[0mlen\u001b[0m\u001b[0;34m(\u001b[0m\u001b[0mVect_vox_sample\u001b[0m\u001b[0;34m)\u001b[0m\u001b[0;34m+\u001b[0m\u001b[0;36m1\u001b[0m\u001b[0;34m)\u001b[0m\u001b[0;34m]\u001b[0m\u001b[0;34m\u001b[0m\u001b[0;34m\u001b[0m\u001b[0m\n\u001b[0;32m---> 11\u001b[0;31m line1, = ax2.loglog(p_th, sorted(dist.sf(data, *args)), '.', linewidth=1,\n\u001b[0m\u001b[1;32m     12\u001b[0m                      label='Q-Q plot')\n\u001b[1;32m     13\u001b[0m \u001b[0max2\u001b[0m\u001b[0;34m.\u001b[0m\u001b[0mplot\u001b[0m\u001b[0;34m(\u001b[0m\u001b[0mp_th\u001b[0m\u001b[0;34m,\u001b[0m \u001b[0mp_th\u001b[0m\u001b[0;34m,\u001b[0m \u001b[0;34m'-'\u001b[0m\u001b[0;34m)\u001b[0m\u001b[0;34m\u001b[0m\u001b[0;34m\u001b[0m\u001b[0m\n",
      "\u001b[0;31mNameError\u001b[0m: name 'args' is not defined"
     ]
    },
    {
     "data": {
      "image/png": "[encoded data removed]",
      "text/plain": [
       "<Figure size 720x360 with 2 Axes>"
      ]
     },
     "metadata": {},
     "output_type": "display_data"
    }
   ],
   "source": [
    "num_bins=100\n",
    "\n",
    "f,(ax1,ax2) = plt.subplots(1,2,sharey=False,figsize=(10,5))\n",
    "\n",
    "n, bins, patches = ax1.hist(np.array(Vect_vox_sample),num_bins,normed=1)\n",
    "dist = scipy.stats.norm\n",
    "y=dist.pdf(bins)\n",
    "ax1.plot(bins, y, '-')\n",
    "\n",
    "p_th = [t/len(Vect_vox_sample) for t in range(1,len(Vect_vox_sample)+1)]\n",
    "line1, = ax2.loglog(p_th, sorted(dist.sf(np.array(Vect_vox_sample))), '.', linewidth=1,\n",
    "                     label='Q-Q plot')\n",
    "ax2.plot(p_th, p_th, '-')\n",
    "ax2.set_title('Q-Q plot')\n",
    "plt.gca().invert_yaxis()\n",
    "plt.gca().invert_xaxis()\n",
    "plt.show()"
   ]
  },
  {
   "cell_type": "code",
   "execution_count": 34,
   "metadata": {},
   "outputs": [],
   "source": [
    "from scipy.stats import norm\n",
    "\n",
    "import pandas as pd\n",
    "\n",
    "import matplotlib.mlab as mlab\n",
    "\n",
    "import scipy.stats\n",
    "\n",
    "def distribution_plot(title, data, dist, *args, **kwargs):\n",
    "    np.random.seed(0)\n",
    "    num_bins = 100\n",
    "    \n",
    "\n",
    "    f, (ax1, ax2) = plt.subplots(1, 2, sharey=False, figsize=(10,5))\n",
    "\n",
    "    # histogram plot\n",
    "    n, bins, patches = ax1.hist(data, num_bins, normed=1)\n",
    "    y = dist.pdf(bins, *args)       \n",
    "    ax1.plot(bins, y, '-')\n",
    "    ax1.set_title(title)\n",
    "    \n",
    "    # qq-plot plot\n",
    "    p_th = [t/data.size for t in range(1,data.size+1)]\n",
    "\n",
    "    line1, = ax2.loglog(p_th, sorted(dist.sf(data, *args)), '.', linewidth=1,\n",
    "                     label=title)\n",
    "    ax2.plot(p_th, p_th, '-')\n",
    "    ax2.set_title('Q-Q plot')\n",
    "\n",
    "\n",
    "    ax2.legend(loc='lower right')\n",
    "    plt.gca().invert_yaxis()\n",
    "    plt.gca().invert_xaxis()\n",
    "    plt.show()"
   ]
  },
  {
   "cell_type": "code",
   "execution_count": 28,
   "metadata": {},
   "outputs": [
    {
     "ename": "NameError",
     "evalue": "name 'ax1' is not defined",
     "output_type": "error",
     "traceback": [
      "\u001b[0;31m---------------------------------------------------------------------------\u001b[0m",
      "\u001b[0;31mNameError\u001b[0m                                 Traceback (most recent call last)",
      "\u001b[0;32m<ipython-input-28-e1d8bf2283ea>\u001b[0m in \u001b[0;36m<module>\u001b[0;34m()\u001b[0m\n\u001b[1;32m      2\u001b[0m     \u001b[0mdistribution_plot\u001b[0m\u001b[0;34m(\u001b[0m\u001b[0mtitle\u001b[0m\u001b[0;34m,\u001b[0m \u001b[0mdata\u001b[0m\u001b[0;34m,\u001b[0m \u001b[0mscipy\u001b[0m\u001b[0;34m.\u001b[0m\u001b[0mstats\u001b[0m\u001b[0;34m.\u001b[0m\u001b[0mnorm\u001b[0m\u001b[0;34m)\u001b[0m\u001b[0;34m\u001b[0m\u001b[0;34m\u001b[0m\u001b[0m\n\u001b[1;32m      3\u001b[0m \u001b[0;34m\u001b[0m\u001b[0m\n\u001b[0;32m----> 4\u001b[0;31m \u001b[0mz_distribution_plot\u001b[0m\u001b[0;34m(\u001b[0m\u001b[0mnp\u001b[0m\u001b[0;34m.\u001b[0m\u001b[0marray\u001b[0m\u001b[0;34m(\u001b[0m\u001b[0mVect_vox_sample\u001b[0m\u001b[0;34m)\u001b[0m\u001b[0;34m,\u001b[0m \u001b[0;34m'QQ-plot'\u001b[0m\u001b[0;34m)\u001b[0m\u001b[0;34m\u001b[0m\u001b[0;34m\u001b[0m\u001b[0m\n\u001b[0m",
      "\u001b[0;32m<ipython-input-28-e1d8bf2283ea>\u001b[0m in \u001b[0;36mz_distribution_plot\u001b[0;34m(data, title, *args, **kwargs)\u001b[0m\n\u001b[1;32m      1\u001b[0m \u001b[0;32mdef\u001b[0m \u001b[0mz_distribution_plot\u001b[0m\u001b[0;34m(\u001b[0m\u001b[0mdata\u001b[0m\u001b[0;34m,\u001b[0m \u001b[0mtitle\u001b[0m\u001b[0;34m,\u001b[0m \u001b[0;34m*\u001b[0m\u001b[0margs\u001b[0m\u001b[0;34m,\u001b[0m \u001b[0;34m**\u001b[0m\u001b[0mkwargs\u001b[0m\u001b[0;34m)\u001b[0m\u001b[0;34m:\u001b[0m\u001b[0;34m\u001b[0m\u001b[0;34m\u001b[0m\u001b[0m\n\u001b[0;32m----> 2\u001b[0;31m     \u001b[0mdistribution_plot\u001b[0m\u001b[0;34m(\u001b[0m\u001b[0mtitle\u001b[0m\u001b[0;34m,\u001b[0m \u001b[0mdata\u001b[0m\u001b[0;34m,\u001b[0m \u001b[0mscipy\u001b[0m\u001b[0;34m.\u001b[0m\u001b[0mstats\u001b[0m\u001b[0;34m.\u001b[0m\u001b[0mnorm\u001b[0m\u001b[0;34m)\u001b[0m\u001b[0;34m\u001b[0m\u001b[0;34m\u001b[0m\u001b[0m\n\u001b[0m\u001b[1;32m      3\u001b[0m \u001b[0;34m\u001b[0m\u001b[0m\n\u001b[1;32m      4\u001b[0m \u001b[0mz_distribution_plot\u001b[0m\u001b[0;34m(\u001b[0m\u001b[0mnp\u001b[0m\u001b[0;34m.\u001b[0m\u001b[0marray\u001b[0m\u001b[0;34m(\u001b[0m\u001b[0mVect_vox_sample\u001b[0m\u001b[0;34m)\u001b[0m\u001b[0;34m,\u001b[0m \u001b[0;34m'QQ-plot'\u001b[0m\u001b[0;34m)\u001b[0m\u001b[0;34m\u001b[0m\u001b[0;34m\u001b[0m\u001b[0m\n",
      "\u001b[0;32m<ipython-input-27-65de7931b4f6>\u001b[0m in \u001b[0;36mdistribution_plot\u001b[0;34m(title, data, dist, *args, **kwargs)\u001b[0m\n\u001b[1;32m     13\u001b[0m \u001b[0;34m\u001b[0m\u001b[0m\n\u001b[1;32m     14\u001b[0m     \u001b[0;31m# histogram plot\u001b[0m\u001b[0;34m\u001b[0m\u001b[0;34m\u001b[0m\u001b[0;34m\u001b[0m\u001b[0m\n\u001b[0;32m---> 15\u001b[0;31m     \u001b[0mn\u001b[0m\u001b[0;34m,\u001b[0m \u001b[0mbins\u001b[0m\u001b[0;34m,\u001b[0m \u001b[0mpatches\u001b[0m \u001b[0;34m=\u001b[0m \u001b[0max1\u001b[0m\u001b[0;34m.\u001b[0m\u001b[0mhist\u001b[0m\u001b[0;34m(\u001b[0m\u001b[0mdata\u001b[0m\u001b[0;34m,\u001b[0m \u001b[0mnum_bins\u001b[0m\u001b[0;34m,\u001b[0m \u001b[0mnormed\u001b[0m\u001b[0;34m=\u001b[0m\u001b[0;36m1\u001b[0m\u001b[0;34m)\u001b[0m\u001b[0;34m\u001b[0m\u001b[0;34m\u001b[0m\u001b[0m\n\u001b[0m\u001b[1;32m     16\u001b[0m     \u001b[0my\u001b[0m \u001b[0;34m=\u001b[0m \u001b[0mdist\u001b[0m\u001b[0;34m.\u001b[0m\u001b[0mpdf\u001b[0m\u001b[0;34m(\u001b[0m\u001b[0mbins\u001b[0m\u001b[0;34m,\u001b[0m \u001b[0;34m*\u001b[0m\u001b[0margs\u001b[0m\u001b[0;34m)\u001b[0m\u001b[0;34m\u001b[0m\u001b[0;34m\u001b[0m\u001b[0m\n\u001b[1;32m     17\u001b[0m     \u001b[0max1\u001b[0m\u001b[0;34m.\u001b[0m\u001b[0mplot\u001b[0m\u001b[0;34m(\u001b[0m\u001b[0mbins\u001b[0m\u001b[0;34m,\u001b[0m \u001b[0my\u001b[0m\u001b[0;34m,\u001b[0m \u001b[0;34m'-'\u001b[0m\u001b[0;34m)\u001b[0m\u001b[0;34m\u001b[0m\u001b[0;34m\u001b[0m\u001b[0m\n",
      "\u001b[0;31mNameError\u001b[0m: name 'ax1' is not defined"
     ]
    }
   ],
   "source": [
    "def z_distribution_plot(data, title, *args, **kwargs):   \n",
    "    distribution_plot(title, data, scipy.stats.norm)\n",
    "    \n",
    "z_distribution_plot(np.array(Vect_vox_sample), 'QQ-plot')"
   ]
  },
  {
   "cell_type": "code",
   "execution_count": 38,
   "metadata": {},
   "outputs": [
    {
     "name": "stderr",
     "output_type": "stream",
     "text": [
      "/usr/lib64/python3.7/site-packages/matplotlib/axes/_axes.py:6571: UserWarning: The 'normed' kwarg is deprecated, and has been replaced by the 'density' kwarg.\n",
      "  warnings.warn(\"The 'normed' kwarg is deprecated, and has been \"\n"
     ]
    },
    {
     "data": {
      "image/png": "[encoded data removed]",
      "text/plain": [
       "<Figure size 720x360 with 1 Axes>"
      ]
     },
     "metadata": {},
     "output_type": "display_data"
    }
   ],
   "source": [
    "f, g1 = plt.subplots(1, sharey=False, figsize=(10,5))\n",
    "n, bins, patches = g1.hist(Vect_vox_sample, 100, normed=1)\n",
    "y = scipy.stats.norm.pdf(bins)"
   ]
  },
  {
   "cell_type": "code",
   "execution_count": null,
   "metadata": {},
   "outputs": [],
   "source": []
  }
 ],
 "metadata": {
  "kernelspec": {
   "display_name": "Python 3",
   "language": "python",
   "name": "python3"
  },
  "language_info": {
   "codemirror_mode": {
    "name": "ipython",
    "version": 3
   },
   "file_extension": ".py",
   "mimetype": "text/x-python",
   "name": "python",
   "nbconvert_exporter": "python",
   "pygments_lexer": "ipython3",
   "version": "3.7.5"
  }
 },
 "nbformat": 4,
 "nbformat_minor": 2
}
